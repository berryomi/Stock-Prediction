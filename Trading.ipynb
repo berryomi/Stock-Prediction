{
 "cells": [
  {
   "cell_type": "code",
   "execution_count": 3,
   "metadata": {
    "ExecuteTime": {
     "end_time": "2021-11-28T08:32:12.158180Z",
     "start_time": "2021-11-28T08:31:49.045249Z"
    }
   },
   "outputs": [],
   "source": [
    "import pandas as pd\n",
    "import numpy as np\n",
    "import matplotlib.pyplot as plt\n",
    "import matplotlib.dates as mdates\n",
    "%matplotlib inline\n",
    "import seaborn as sns\n",
    "import os\n",
    "from sklearn.preprocessing import MinMaxScaler\n",
    "from sklearn.model_selection import train_test_split\n",
    "\n",
    "import tensorflow as tf\n",
    "from keras import Sequential\n",
    "from keras.layers import LSTM, Dropout, Dense, Activation\n",
    "from keras.callbacks import EarlyStopping, ModelCheckpoint\n",
    "from pykalman import KalmanFilter"
   ]
  },
  {
   "cell_type": "code",
   "execution_count": 12,
   "metadata": {
    "ExecuteTime": {
     "end_time": "2021-11-28T08:42:51.230493Z",
     "start_time": "2021-11-28T08:42:51.201285Z"
    }
   },
   "outputs": [
    {
     "data": {
      "text/html": [
       "<div>\n",
       "<style scoped>\n",
       "    .dataframe tbody tr th:only-of-type {\n",
       "        vertical-align: middle;\n",
       "    }\n",
       "\n",
       "    .dataframe tbody tr th {\n",
       "        vertical-align: top;\n",
       "    }\n",
       "\n",
       "    .dataframe thead th {\n",
       "        text-align: right;\n",
       "    }\n",
       "</style>\n",
       "<table border=\"1\" class=\"dataframe\">\n",
       "  <thead>\n",
       "    <tr style=\"text-align: right;\">\n",
       "      <th></th>\n",
       "      <th>Date</th>\n",
       "      <th>Close</th>\n",
       "      <th>Open</th>\n",
       "      <th>High</th>\n",
       "      <th>Low</th>\n",
       "      <th>Volume</th>\n",
       "    </tr>\n",
       "  </thead>\n",
       "  <tbody>\n",
       "    <tr>\n",
       "      <td>0</td>\n",
       "      <td>1980-12-12</td>\n",
       "      <td>0.13</td>\n",
       "      <td>0.13</td>\n",
       "      <td>0.13</td>\n",
       "      <td>0.13</td>\n",
       "      <td>469030000.0</td>\n",
       "    </tr>\n",
       "    <tr>\n",
       "      <td>1</td>\n",
       "      <td>1980-12-15</td>\n",
       "      <td>0.12</td>\n",
       "      <td>0.12</td>\n",
       "      <td>0.12</td>\n",
       "      <td>0.12</td>\n",
       "      <td>175880000.0</td>\n",
       "    </tr>\n",
       "    <tr>\n",
       "      <td>2</td>\n",
       "      <td>1980-12-16</td>\n",
       "      <td>0.11</td>\n",
       "      <td>0.11</td>\n",
       "      <td>0.11</td>\n",
       "      <td>0.11</td>\n",
       "      <td>105730000.0</td>\n",
       "    </tr>\n",
       "    <tr>\n",
       "      <td>3</td>\n",
       "      <td>1980-12-17</td>\n",
       "      <td>0.12</td>\n",
       "      <td>0.12</td>\n",
       "      <td>0.12</td>\n",
       "      <td>0.12</td>\n",
       "      <td>86440000.0</td>\n",
       "    </tr>\n",
       "    <tr>\n",
       "      <td>4</td>\n",
       "      <td>1980-12-18</td>\n",
       "      <td>0.12</td>\n",
       "      <td>0.12</td>\n",
       "      <td>0.12</td>\n",
       "      <td>0.12</td>\n",
       "      <td>73450000.0</td>\n",
       "    </tr>\n",
       "  </tbody>\n",
       "</table>\n",
       "</div>"
      ],
      "text/plain": [
       "         Date  Close  Open  High   Low       Volume\n",
       "0  1980-12-12   0.13  0.13  0.13  0.13  469030000.0\n",
       "1  1980-12-15   0.12  0.12  0.12  0.12  175880000.0\n",
       "2  1980-12-16   0.11  0.11  0.11  0.11  105730000.0\n",
       "3  1980-12-17   0.12  0.12  0.12  0.12   86440000.0\n",
       "4  1980-12-18   0.12  0.12  0.12  0.12   73450000.0"
      ]
     },
     "execution_count": 12,
     "metadata": {},
     "output_type": "execute_result"
    }
   ],
   "source": [
    "# file = pd.read_csv(\"AAPL_price.csv\", dtype={\"Close\" : np.float64, \"Open\":np.float64, \"High\":np.float64, \"Low\":np.float64, \"Volume\":np.float64})\n",
    "# dataframe = file.iloc[1:, :] #Delete first row\n",
    "data = pd.read_csv(\"AAPL_price.csv\")\n",
    "data.head()"
   ]
  },
  {
   "cell_type": "code",
   "execution_count": 13,
   "metadata": {
    "ExecuteTime": {
     "end_time": "2021-11-28T08:42:51.846446Z",
     "start_time": "2021-11-28T08:42:51.825411Z"
    }
   },
   "outputs": [
    {
     "name": "stdout",
     "output_type": "stream",
     "text": [
      "Date      0\n",
      "Close     0\n",
      "Open      0\n",
      "High      0\n",
      "Low       0\n",
      "Volume    0\n",
      "dtype: int64\n",
      "Date      10325\n",
      "Close     10325\n",
      "Open      10325\n",
      "High      10325\n",
      "Low       10325\n",
      "Volume    10325\n",
      "dtype: int64\n"
     ]
    }
   ],
   "source": [
    "#Data Cleasning\n",
    "# Ensure no null value exist\n",
    "data.dropna(inplace=True)\n",
    "print(data.isnull().sum())\t# Must be 0\n",
    "print(data.count())"
   ]
  },
  {
   "cell_type": "code",
   "execution_count": 14,
   "metadata": {
    "ExecuteTime": {
     "end_time": "2021-11-28T08:43:02.844962Z",
     "start_time": "2021-11-28T08:43:02.826256Z"
    }
   },
   "outputs": [
    {
     "name": "stdout",
     "output_type": "stream",
     "text": [
      "Date      10325\n",
      "Close     10325\n",
      "Open      10325\n",
      "High      10325\n",
      "Low       10325\n",
      "Volume    10325\n",
      "dtype: int64\n"
     ]
    }
   ],
   "source": [
    "# Ensure there are no duplicates\n",
    "data.drop_duplicates(subset='Date', inplace=True)\n",
    "print(data.count())"
   ]
  },
  {
   "cell_type": "code",
   "execution_count": 19,
   "metadata": {
    "ExecuteTime": {
     "end_time": "2021-11-28T08:56:15.091862Z",
     "start_time": "2021-11-28T08:56:15.073350Z"
    }
   },
   "outputs": [],
   "source": [
    "closePrice = data.Close.astype(\"float32\")\n",
    "train = closePrice[0:int(len(closePrice)*0.8)]"
   ]
  },
  {
   "cell_type": "code",
   "execution_count": 8,
   "metadata": {
    "ExecuteTime": {
     "end_time": "2021-11-28T08:38:55.793172Z",
     "start_time": "2021-11-28T08:38:55.614394Z"
    }
   },
   "outputs": [
    {
     "data": {
      "image/png": "[encoded data removed]",
      "text/plain": [
       "<Figure size 1152x432 with 1 Axes>"
      ]
     },
     "metadata": {
      "needs_background": "light"
     },
     "output_type": "display_data"
    }
   ],
   "source": [
    "plt.figure(figsize=(16,6))\n",
    "plt.title('Close Price History')\n",
    "plt.plot(file['Close'])\n",
    "plt.xlabel('Date', fontsize=18)\n",
    "plt.ylabel('Close Price USD ($)', fontsize=18)\n",
    "plt.show()"
   ]
  },
  {
   "cell_type": "code",
   "execution_count": 27,
   "metadata": {
    "ExecuteTime": {
     "end_time": "2021-11-28T09:00:10.604273Z",
     "start_time": "2021-11-28T09:00:10.599273Z"
    }
   },
   "outputs": [],
   "source": [
    "#Data normalization\n",
    "#We have to sacle our data for optimal performance\n",
    "sc = MinMaxScaler(feature_range = (-1,1))\n",
    "training_set_scaled = sc.fit(train.values.reshape(-1,1))\n",
    "closePrice = sc.transform(closePrice.values.reshape(-1,1))\n"
   ]
  },
  {
   "cell_type": "code",
   "execution_count": 30,
   "metadata": {
    "ExecuteTime": {
     "end_time": "2021-11-28T09:00:34.542710Z",
     "start_time": "2021-11-28T09:00:34.496700Z"
    }
   },
   "outputs": [
    {
     "name": "stdout",
     "output_type": "stream",
     "text": [
      "9282 10\n",
      "1032 10\n",
      "9282\n",
      "1032\n"
     ]
    }
   ],
   "source": [
    "'''\n",
    "Our train data will have as features the look back values, which are the lag values noted as ‘lb’.\n",
    "For this example, we set the lb equal to 10. Notice that we scale the data on the “train” dataset\n",
    "using the MinMaxScaler() from scikit-learn. Finally, for this example, we keep as train dataset\n",
    "the first 90% of the observations and as a test dataset the rest 10%\n",
    "'''\n",
    "def processData(data,lb):\n",
    "    X,Y = [],[]\n",
    "    for i in range(len(data)-lb-1):\n",
    "        X.append(data[i:(i+lb),0])\n",
    "        Y.append(data[(i+lb),0])\n",
    "    return np.array(X),np.array(Y)\n",
    "\n",
    "lb=10\n",
    "X,y = processData(closePrice,lb)\n",
    "X,y = processData(closePrice,lb)\n",
    "X_train,X_test = X[:int(X.shape[0]*0.90)],X[int(X.shape[0]*0.90):]\n",
    "y_train,y_test = y[:int(y.shape[0]*0.90)],y[int(y.shape[0]*0.90):]\n",
    "print(X_train.shape[0],X_train.shape[1])\n",
    "print(X_test.shape[0], X_test.shape[1])\n",
    "print(y_train.shape[0])\n",
    "print(y_test.shape[0])"
   ]
  },
  {
   "cell_type": "code",
   "execution_count": 31,
   "metadata": {
    "ExecuteTime": {
     "end_time": "2021-11-28T09:11:02.098750Z",
     "start_time": "2021-11-28T09:01:43.327547Z"
    }
   },
   "outputs": [
    {
     "name": "stdout",
     "output_type": "stream",
     "text": [
      "Epoch 1/100\n",
      "291/291 [==============================] - 9s 22ms/step - loss: 0.0104 - val_loss: 5.2399\n",
      "Epoch 2/100\n",
      "291/291 [==============================] - 5s 16ms/step - loss: 0.0026 - val_loss: 7.5514\n",
      "Epoch 3/100\n",
      "291/291 [==============================] - 5s 17ms/step - loss: 0.0016 - val_loss: 4.9266\n",
      "Epoch 4/100\n",
      "291/291 [==============================] - 6s 20ms/step - loss: 0.0013 - val_loss: 3.0335\n",
      "Epoch 5/100\n",
      "291/291 [==============================] - 5s 17ms/step - loss: 0.0017 - val_loss: 1.4755\n",
      "Epoch 6/100\n",
      "291/291 [==============================] - 5s 17ms/step - loss: 0.0022 - val_loss: 0.6926\n",
      "Epoch 7/100\n",
      "291/291 [==============================] - 5s 17ms/step - loss: 0.0027 - val_loss: 0.4512\n",
      "Epoch 8/100\n",
      "291/291 [==============================] - 6s 21ms/step - loss: 0.0031 - val_loss: 0.3875\n",
      "Epoch 9/100\n",
      "291/291 [==============================] - 6s 21ms/step - loss: 0.0032 - val_loss: 0.4369\n",
      "Epoch 10/100\n",
      "291/291 [==============================] - 6s 21ms/step - loss: 0.0030 - val_loss: 2.8186\n",
      "Epoch 11/100\n",
      "291/291 [==============================] - 6s 20ms/step - loss: 0.0027 - val_loss: 3.4420\n",
      "Epoch 12/100\n",
      "291/291 [==============================] - 6s 20ms/step - loss: 0.0025 - val_loss: 1.7760\n",
      "Epoch 13/100\n",
      "291/291 [==============================] - 6s 22ms/step - loss: 0.0024 - val_loss: 3.9245\n",
      "Epoch 14/100\n",
      "291/291 [==============================] - 6s 21ms/step - loss: 0.0022 - val_loss: 2.8272\n",
      "Epoch 15/100\n",
      "291/291 [==============================] - 6s 22ms/step - loss: 0.0013 - val_loss: 0.6568\n",
      "Epoch 16/100\n",
      "291/291 [==============================] - 6s 21ms/step - loss: 0.0018 - val_loss: 1.3715\n",
      "Epoch 17/100\n",
      "291/291 [==============================] - 6s 20ms/step - loss: 0.0017 - val_loss: 0.1160\n",
      "Epoch 18/100\n",
      "291/291 [==============================] - 6s 20ms/step - loss: 0.0015 - val_loss: 0.0760\n",
      "Epoch 19/100\n",
      "291/291 [==============================] - 6s 20ms/step - loss: 0.0013 - val_loss: 0.0563\n",
      "Epoch 20/100\n",
      "291/291 [==============================] - 6s 20ms/step - loss: 0.0012 - val_loss: 0.0345\n",
      "Epoch 21/100\n",
      "291/291 [==============================] - 6s 21ms/step - loss: 0.0012 - val_loss: 0.2221\n",
      "Epoch 22/100\n",
      "291/291 [==============================] - 6s 20ms/step - loss: 9.8698e-04 - val_loss: 0.5971\n",
      "Epoch 23/100\n",
      "291/291 [==============================] - 6s 20ms/step - loss: 8.0447e-04 - val_loss: 0.8094\n",
      "Epoch 24/100\n",
      "291/291 [==============================] - 6s 20ms/step - loss: 8.9570e-04 - val_loss: 0.6123\n",
      "Epoch 25/100\n",
      "291/291 [==============================] - 6s 20ms/step - loss: 8.0645e-04 - val_loss: 0.5328\n",
      "Epoch 26/100\n",
      "291/291 [==============================] - 6s 20ms/step - loss: 9.5545e-04 - val_loss: 0.8721\n",
      "Epoch 27/100\n",
      "291/291 [==============================] - 6s 20ms/step - loss: 7.3492e-04 - val_loss: 0.8850\n",
      "Epoch 28/100\n",
      "291/291 [==============================] - 6s 20ms/step - loss: 7.3979e-04 - val_loss: 1.0430\n",
      "Epoch 29/100\n",
      "291/291 [==============================] - 6s 20ms/step - loss: 6.5378e-04 - val_loss: 0.9666\n",
      "Epoch 30/100\n",
      "291/291 [==============================] - 5s 18ms/step - loss: 6.2476e-04 - val_loss: 1.2435\n",
      "Epoch 31/100\n",
      "291/291 [==============================] - 6s 19ms/step - loss: 6.1572e-04 - val_loss: 1.4113\n",
      "Epoch 32/100\n",
      "291/291 [==============================] - 5s 17ms/step - loss: 5.5337e-04 - val_loss: 1.2651\n",
      "Epoch 33/100\n",
      "291/291 [==============================] - 6s 20ms/step - loss: 6.1721e-04 - val_loss: 0.9480\n",
      "Epoch 34/100\n",
      "291/291 [==============================] - 6s 20ms/step - loss: 6.5272e-04 - val_loss: 0.8219\n",
      "Epoch 35/100\n",
      "291/291 [==============================] - 5s 19ms/step - loss: 6.2085e-04 - val_loss: 0.6164\n",
      "Epoch 36/100\n",
      "291/291 [==============================] - 5s 19ms/step - loss: 6.0561e-04 - val_loss: 0.4706\n",
      "Epoch 37/100\n",
      "291/291 [==============================] - 6s 20ms/step - loss: 5.4895e-04 - val_loss: 0.3250\n",
      "Epoch 38/100\n",
      "291/291 [==============================] - 5s 18ms/step - loss: 6.3502e-04 - val_loss: 0.4582\n",
      "Epoch 39/100\n",
      "291/291 [==============================] - 5s 16ms/step - loss: 5.9458e-04 - val_loss: 0.3231\n",
      "Epoch 40/100\n",
      "291/291 [==============================] - 5s 16ms/step - loss: 6.1930e-04 - val_loss: 0.4379\n",
      "Epoch 41/100\n",
      "291/291 [==============================] - 6s 20ms/step - loss: 6.3813e-04 - val_loss: 0.3812\n",
      "Epoch 42/100\n",
      "291/291 [==============================] - 6s 20ms/step - loss: 6.0139e-04 - val_loss: 0.1885\n",
      "Epoch 43/100\n",
      "291/291 [==============================] - 6s 20ms/step - loss: 6.7250e-04 - val_loss: 0.6709\n",
      "Epoch 44/100\n",
      "291/291 [==============================] - 6s 21ms/step - loss: 6.3615e-04 - val_loss: 1.3504\n",
      "Epoch 45/100\n",
      "291/291 [==============================] - 5s 18ms/step - loss: 5.6495e-04 - val_loss: 1.8599\n",
      "Epoch 46/100\n",
      "291/291 [==============================] - 5s 18ms/step - loss: 5.8682e-04 - val_loss: 2.1084\n",
      "Epoch 47/100\n",
      "291/291 [==============================] - 5s 18ms/step - loss: 6.3895e-04 - val_loss: 2.4097\n",
      "Epoch 48/100\n",
      "291/291 [==============================] - 5s 18ms/step - loss: 5.9646e-04 - val_loss: 2.9420\n",
      "Epoch 49/100\n",
      "291/291 [==============================] - 5s 18ms/step - loss: 5.8776e-04 - val_loss: 2.3607\n",
      "Epoch 50/100\n",
      "291/291 [==============================] - 6s 21ms/step - loss: 5.4754e-04 - val_loss: 3.1558\n",
      "Epoch 51/100\n",
      "291/291 [==============================] - 6s 19ms/step - loss: 4.8365e-04 - val_loss: 2.4821\n",
      "Epoch 52/100\n",
      "291/291 [==============================] - 5s 18ms/step - loss: 5.2049e-04 - val_loss: 2.9079\n",
      "Epoch 53/100\n",
      "291/291 [==============================] - 5s 19ms/step - loss: 4.7863e-04 - val_loss: 2.4495\n",
      "Epoch 54/100\n",
      "291/291 [==============================] - 6s 20ms/step - loss: 4.4292e-04 - val_loss: 1.8449\n",
      "Epoch 55/100\n",
      "291/291 [==============================] - 6s 20ms/step - loss: 4.6501e-04 - val_loss: 2.5420\n",
      "Epoch 56/100\n",
      "291/291 [==============================] - 6s 22ms/step - loss: 3.6289e-04 - val_loss: 1.9365\n",
      "Epoch 57/100\n",
      "291/291 [==============================] - 6s 22ms/step - loss: 5.2171e-04 - val_loss: 1.0020\n",
      "Epoch 58/100\n",
      "291/291 [==============================] - 6s 22ms/step - loss: 4.8449e-04 - val_loss: 0.8340\n",
      "Epoch 59/100\n",
      "291/291 [==============================] - 6s 20ms/step - loss: 4.1115e-04 - val_loss: 0.5164\n",
      "Epoch 60/100\n",
      "291/291 [==============================] - 6s 21ms/step - loss: 4.5572e-04 - val_loss: 1.0204\n",
      "Epoch 61/100\n",
      "291/291 [==============================] - 5s 19ms/step - loss: 5.2570e-04 - val_loss: 0.7196\n",
      "Epoch 62/100\n",
      "291/291 [==============================] - 6s 21ms/step - loss: 3.4272e-04 - val_loss: 0.3747\n",
      "Epoch 63/100\n",
      "291/291 [==============================] - 6s 21ms/step - loss: 5.3793e-04 - val_loss: 0.3905\n",
      "Epoch 64/100\n",
      "291/291 [==============================] - 6s 21ms/step - loss: 5.0225e-04 - val_loss: 0.3672\n",
      "Epoch 65/100\n",
      "291/291 [==============================] - 6s 21ms/step - loss: 4.9153e-04 - val_loss: 0.4546\n",
      "Epoch 66/100\n",
      "291/291 [==============================] - 6s 21ms/step - loss: 4.1138e-04 - val_loss: 2.4140\n",
      "Epoch 67/100\n",
      "291/291 [==============================] - 6s 21ms/step - loss: 5.2252e-04 - val_loss: 1.8529\n",
      "Epoch 68/100\n",
      "291/291 [==============================] - 6s 21ms/step - loss: 3.7491e-04 - val_loss: 0.9378\n",
      "Epoch 69/100\n",
      "291/291 [==============================] - 6s 21ms/step - loss: 4.1051e-04 - val_loss: 1.6734\n",
      "Epoch 70/100\n",
      "291/291 [==============================] - 6s 20ms/step - loss: 5.4252e-04 - val_loss: 2.4408\n",
      "Epoch 71/100\n",
      "291/291 [==============================] - 6s 21ms/step - loss: 4.8905e-04 - val_loss: 2.3801\n",
      "Epoch 72/100\n",
      "291/291 [==============================] - 6s 21ms/step - loss: 4.3386e-04 - val_loss: 3.6365\n",
      "Epoch 73/100\n",
      "291/291 [==============================] - 6s 21ms/step - loss: 5.3481e-04 - val_loss: 4.2221\n",
      "Epoch 74/100\n",
      "291/291 [==============================] - 6s 21ms/step - loss: 4.1573e-04 - val_loss: 1.8043\n",
      "Epoch 75/100\n",
      "291/291 [==============================] - 6s 21ms/step - loss: 4.2676e-04 - val_loss: 1.6990\n",
      "Epoch 76/100\n",
      "291/291 [==============================] - 6s 21ms/step - loss: 4.6545e-04 - val_loss: 2.2007\n",
      "Epoch 77/100\n",
      "291/291 [==============================] - 5s 18ms/step - loss: 5.7661e-04 - val_loss: 2.0575\n",
      "Epoch 78/100\n"
     ]
    },
    {
     "name": "stdout",
     "output_type": "stream",
     "text": [
      "291/291 [==============================] - 5s 17ms/step - loss: 4.0201e-04 - val_loss: 2.8180\n",
      "Epoch 79/100\n",
      "291/291 [==============================] - 5s 17ms/step - loss: 4.7837e-04 - val_loss: 2.0767\n",
      "Epoch 80/100\n",
      "291/291 [==============================] - 5s 17ms/step - loss: 4.4785e-04 - val_loss: 4.1354\n",
      "Epoch 81/100\n",
      "291/291 [==============================] - 5s 17ms/step - loss: 4.7401e-04 - val_loss: 3.8997\n",
      "Epoch 82/100\n",
      "291/291 [==============================] - 5s 17ms/step - loss: 5.0708e-04 - val_loss: 8.5193\n",
      "Epoch 83/100\n",
      "291/291 [==============================] - 5s 17ms/step - loss: 5.4904e-04 - val_loss: 2.9522\n",
      "Epoch 84/100\n",
      "291/291 [==============================] - 5s 17ms/step - loss: 5.9111e-04 - val_loss: 2.3087\n",
      "Epoch 85/100\n",
      "291/291 [==============================] - 5s 17ms/step - loss: 6.2231e-04 - val_loss: 1.1286\n",
      "Epoch 86/100\n",
      "291/291 [==============================] - 5s 17ms/step - loss: 6.0366e-04 - val_loss: 0.8116\n",
      "Epoch 87/100\n",
      "291/291 [==============================] - 5s 17ms/step - loss: 5.6915e-04 - val_loss: 4.7845\n",
      "Epoch 88/100\n",
      "291/291 [==============================] - 5s 17ms/step - loss: 6.4282e-04 - val_loss: 12.1388\n",
      "Epoch 89/100\n",
      "291/291 [==============================] - 5s 17ms/step - loss: 8.0830e-04 - val_loss: 2.5735\n",
      "Epoch 90/100\n",
      "291/291 [==============================] - 5s 17ms/step - loss: 6.5495e-04 - val_loss: 12.7918\n",
      "Epoch 91/100\n",
      "291/291 [==============================] - 5s 17ms/step - loss: 7.5421e-04 - val_loss: 1.0417\n",
      "Epoch 92/100\n",
      "291/291 [==============================] - 5s 17ms/step - loss: 7.2971e-04 - val_loss: 8.8765\n",
      "Epoch 93/100\n",
      "291/291 [==============================] - 5s 17ms/step - loss: 4.5648e-04 - val_loss: 7.7376\n",
      "Epoch 94/100\n",
      "291/291 [==============================] - 5s 17ms/step - loss: 3.6417e-04 - val_loss: 8.7984\n",
      "Epoch 95/100\n",
      "291/291 [==============================] - 5s 17ms/step - loss: 2.5003e-04 - val_loss: 9.7280\n",
      "Epoch 96/100\n",
      "291/291 [==============================] - 5s 17ms/step - loss: 2.0248e-04 - val_loss: 10.3923\n",
      "Epoch 97/100\n",
      "291/291 [==============================] - 5s 17ms/step - loss: 1.8977e-04 - val_loss: 10.9308\n",
      "Epoch 98/100\n",
      "291/291 [==============================] - 5s 17ms/step - loss: 1.8794e-04 - val_loss: 11.1616\n",
      "Epoch 99/100\n",
      "291/291 [==============================] - 5s 17ms/step - loss: 1.9548e-04 - val_loss: 10.9693\n",
      "Epoch 100/100\n",
      "291/291 [==============================] - 5s 17ms/step - loss: 2.0719e-04 - val_loss: 10.4160\n",
      "Model: \"sequential_1\"\n",
      "_________________________________________________________________\n",
      " Layer (type)                Output Shape              Param #   \n",
      "=================================================================\n",
      " lstm (LSTM)                 (None, 256)               264192    \n",
      "                                                                 \n",
      " dense (Dense)               (None, 1)                 257       \n",
      "                                                                 \n",
      "=================================================================\n",
      "Total params: 264,449\n",
      "Trainable params: 264,449\n",
      "Non-trainable params: 0\n",
      "_________________________________________________________________\n"
     ]
    }
   ],
   "source": [
    "#Need to install Tensorflow\n",
    "#pip install --upgrade tensorflow\n",
    "#pip install keras\n",
    "model = Sequential()\n",
    "model.add(LSTM(256,input_shape=(lb,1)))\n",
    "model.add(Dense(1))\n",
    "model.compile(optimizer='adam',loss='mse')\n",
    "\n",
    "#Reshape data for (Sample,Timestep,Features) \n",
    "X_train = X_train.reshape((X_train.shape[0],X_train.shape[1],1))\n",
    "X_test = X_test.reshape((X_test.shape[0],X_test.shape[1],1))\n",
    "#Fit model with history to check for overfitting\n",
    "history = model.fit(X_train,y_train,epochs=100,validation_data=(X_test,y_test),shuffle=False)\n",
    "model.summary() \n"
   ]
  },
  {
   "cell_type": "code",
   "execution_count": 32,
   "metadata": {
    "ExecuteTime": {
     "end_time": "2021-11-28T09:12:59.699943Z",
     "start_time": "2021-11-28T09:12:56.579344Z"
    }
   },
   "outputs": [
    {
     "data": {
      "text/plain": [
       "Text(0.5, 1.0, 'Train Dataset')"
      ]
     },
     "execution_count": 32,
     "metadata": {},
     "output_type": "execute_result"
    },
    {
     "data": {
      "image/png": "[encoded data removed]",
      "text/plain": [
       "<Figure size 864x576 with 1 Axes>"
      ]
     },
     "metadata": {
      "needs_background": "light"
     },
     "output_type": "display_data"
    }
   ],
   "source": [
    "plt.figure(figsize=(12,8))\n",
    " \n",
    "Xt = model.predict(X_train)\n",
    "plt.plot(sc.inverse_transform(y_train.reshape(-1,1)), label=\"Actual\")\n",
    "plt.plot(sc.inverse_transform(Xt), label=\"Predicted\")\n",
    "plt.legend()\n",
    "plt.title(\"Train Dataset\")"
   ]
  },
  {
   "cell_type": "code",
   "execution_count": null,
   "metadata": {},
   "outputs": [],
   "source": []
  }
 ],
 "metadata": {
  "hide_input": false,
  "kernelspec": {
   "display_name": "Python 3",
   "language": "python",
   "name": "python3"
  },
  "language_info": {
   "codemirror_mode": {
    "name": "ipython",
    "version": 3
   },
   "file_extension": ".py",
   "mimetype": "text/x-python",
   "name": "python",
   "nbconvert_exporter": "python",
   "pygments_lexer": "ipython3",
   "version": "3.7.4"
  },
  "toc": {
   "base_numbering": 1,
   "nav_menu": {},
   "number_sections": true,
   "sideBar": true,
   "skip_h1_title": false,
   "title_cell": "Table of Contents",
   "title_sidebar": "Contents",
   "toc_cell": false,
   "toc_position": {},
   "toc_section_display": true,
   "toc_window_display": false
  },
  "varInspector": {
   "cols": {
    "lenName": 16,
    "lenType": 16,
    "lenVar": 40
   },
   "kernels_config": {
    "python": {
     "delete_cmd_postfix": "",
     "delete_cmd_prefix": "del ",
     "library": "var_list.py",
     "varRefreshCmd": "print(var_dic_list())"
    },
    "r": {
     "delete_cmd_postfix": ") ",
     "delete_cmd_prefix": "rm(",
     "library": "var_list.r",
     "varRefreshCmd": "cat(var_dic_list()) "
    }
   },
   "types_to_exclude": [
    "module",
    "function",
    "builtin_function_or_method",
    "instance",
    "_Feature"
   ],
   "window_display": false
  }
 },
 "nbformat": 4,
 "nbformat_minor": 2
}
